{
 "nbformat": 4,
 "nbformat_minor": 0,
 "metadata": {
  "colab": {
   "name": "API_practice_submission.ipynb",
   "provenance": [],
   "collapsed_sections": []
  },
  "kernelspec": {
   "name": "python3",
   "display_name": "Python 3"
  },
  "language_info": {
   "name": "python"
  }
 },
 "cells": [
  {
   "cell_type": "code",
   "execution_count": 23,
   "metadata": {
    "id": "E4L-7-gZEbdW",
    "pycharm": {
     "name": "#%%\n"
    }
   },
   "outputs": [],
   "source": [
    "## import libaries \n",
    "import pandas as pd\n",
    "import numpy as np\n",
    "import requests\n",
    "from pprint import pprint"
   ]
  },
  {
   "cell_type": "markdown",
   "source": [
    "## Disney Characters"
   ],
   "metadata": {
    "id": "ENehaU0EoY4Y",
    "pycharm": {
     "name": "#%% md\n"
    }
   }
  },
  {
   "cell_type": "code",
   "source": [
    "# get the api url and connect to the sever\n",
    "url ='https://api.disneyapi.dev/characters'\n",
    "response = requests.get(url)\n",
    "print(response)"
   ],
   "metadata": {
    "colab": {
     "base_uri": "https://localhost:8080/"
    },
    "id": "n0MmUfqInUVa",
    "outputId": "0104482d-22cf-4c98-cd1d-711741b0bd44",
    "pycharm": {
     "name": "#%%\n"
    }
   },
   "execution_count": 24,
   "outputs": [
    {
     "output_type": "stream",
     "name": "stdout",
     "text": [
      "<Response [200]>\n"
     ]
    }
   ]
  },
  {
   "cell_type": "code",
   "source": [
    "# convert the data to the disney dictionary\n",
    "disney = response.json()"
   ],
   "metadata": {
    "id": "pNvch2wQpDyA",
    "pycharm": {
     "name": "#%%\n"
    }
   },
   "execution_count": 26,
   "outputs": []
  },
  {
   "cell_type": "code",
   "source": [
    "#pprint(disney)"
   ],
   "metadata": {
    "id": "3XT6oAPBpFcy",
    "pycharm": {
     "name": "#%%\n"
    }
   },
   "execution_count": 27,
   "outputs": []
  },
  {
   "cell_type": "code",
   "source": [
    "disney.keys() # check the keys in the dictionary"
   ],
   "metadata": {
    "colab": {
     "base_uri": "https://localhost:8080/"
    },
    "id": "pVyfKXttpOK8",
    "outputId": "db3b5580-8de8-4dd0-b742-5d848bd0a29a",
    "pycharm": {
     "name": "#%%\n"
    }
   },
   "execution_count": 29,
   "outputs": [
    {
     "output_type": "execute_result",
     "data": {
      "text/plain": [
       "dict_keys(['data', 'count', 'totalPages', 'nextPage'])"
      ]
     },
     "metadata": {},
     "execution_count": 29
    }
   ]
  },
  {
   "cell_type": "code",
   "source": [
    "disney['data'][0].keys() # check the keys in the dictionary of data"
   ],
   "metadata": {
    "colab": {
     "base_uri": "https://localhost:8080/"
    },
    "id": "Tcty3_Y0p3SN",
    "outputId": "3b705b4e-02e3-4d18-aae6-51843ff0764b",
    "pycharm": {
     "name": "#%%\n"
    }
   },
   "execution_count": 31,
   "outputs": [
    {
     "output_type": "execute_result",
     "data": {
      "text/plain": [
       "dict_keys(['films', 'shortFilms', 'tvShows', 'videoGames', 'parkAttractions', 'allies', 'enemies', '_id', 'name', 'imageUrl', 'url'])"
      ]
     },
     "metadata": {},
     "execution_count": 31
    }
   ]
  },
  {
   "cell_type": "code",
   "source": [
    "disney['count'] # check the value of count in the main dictionary"
   ],
   "metadata": {
    "colab": {
     "base_uri": "https://localhost:8080/"
    },
    "id": "hKbOGlplp5Hs",
    "outputId": "22f5fde2-b467-4e23-b5e0-b4eafddd1302",
    "pycharm": {
     "name": "#%%\n"
    }
   },
   "execution_count": 33,
   "outputs": [
    {
     "output_type": "execute_result",
     "data": {
      "text/plain": [
       "50"
      ]
     },
     "metadata": {},
     "execution_count": 33
    }
   ]
  },
  {
   "cell_type": "code",
   "source": [
    "len(disney['data']) # check the whole length of the 'data'"
   ],
   "metadata": {
    "colab": {
     "base_uri": "https://localhost:8080/"
    },
    "id": "g3-pN2n-qAlo",
    "outputId": "e1ce0446-90b0-4ed4-fffd-85d665ca4da0",
    "pycharm": {
     "name": "#%%\n"
    }
   },
   "execution_count": 35,
   "outputs": [
    {
     "output_type": "execute_result",
     "data": {
      "text/plain": [
       "50"
      ]
     },
     "metadata": {},
     "execution_count": 35
    }
   ]
  },
  {
   "cell_type": "code",
   "source": [
    "disney['totalPages'] # check the value of the totalPages, so it's total 149 pages"
   ],
   "metadata": {
    "colab": {
     "base_uri": "https://localhost:8080/"
    },
    "id": "GNE0aGnZqCf-",
    "outputId": "42da5c2e-0731-4786-bb44-d05d2cb5a3ea",
    "pycharm": {
     "name": "#%%\n"
    }
   },
   "execution_count": 38,
   "outputs": [
    {
     "output_type": "execute_result",
     "data": {
      "text/plain": [
       "149"
      ]
     },
     "metadata": {},
     "execution_count": 38
    }
   ]
  },
  {
   "cell_type": "code",
   "source": [
    "disney['nextPage'] # It mentioned how to go to the next page, so just change the number after page="
   ],
   "metadata": {
    "colab": {
     "base_uri": "https://localhost:8080/",
     "height": 35
    },
    "id": "rqyd-X2ZqH28",
    "outputId": "e270e1fe-99c4-4bcb-dbae-5b7430363591",
    "pycharm": {
     "name": "#%%\n"
    }
   },
   "execution_count": 39,
   "outputs": [
    {
     "output_type": "execute_result",
     "data": {
      "text/plain": [
       "'https://api.disneyapi.dev/characters?page=2'"
      ],
      "application/vnd.google.colaboratory.intrinsic+json": {
       "type": "string"
      }
     },
     "metadata": {},
     "execution_count": 39
    }
   ]
  },
  {
   "cell_type": "code",
   "source": [
    "# create a function to get the name and url in the data sub-dictionary of each page\n",
    "def get_data(page_number):\n",
    "  try:\n",
    "    url =f'https://api.disneyapi.dev/characters?page={page_number}'\n",
    "    response = requests.get(url)\n",
    "    disney = response.json()\n",
    "    name = [] # create an empty list for name\n",
    "    film = [] # create an empty list for film\n",
    "    url = []  # create an empty list for url\n",
    "    for i in range(0,50):    ## use for loop to add the value of each object to its list.\n",
    "      x = disney['data'][i]['name']\n",
    "      y = disney['data'][i]['films']\n",
    "      z = disney['data'][i]['url']\n",
    "      name.append(x)\n",
    "      film.append(y)\n",
    "      url.append(z)\n",
    "    return  name, film, url # return the list\n",
    "  except:\n",
    "        return 'Error', np.NAN, np.NAN, np.NAN"
   ],
   "metadata": {
    "id": "fICrys9dqKx7",
    "pycharm": {
     "name": "#%%\n"
    }
   },
   "execution_count": 67,
   "outputs": []
  },
  {
   "cell_type": "code",
   "source": [
    "## create an empty dataframe\n",
    "df_disney =pd.DataFrame()"
   ],
   "metadata": {
    "id": "WgPz1dCcymzw",
    "pycharm": {
     "name": "#%%\n"
    }
   },
   "execution_count": 68,
   "outputs": []
  },
  {
   "cell_type": "code",
   "source": [
    "## there are total 149 pages, so add the dataframe of each page together.\n",
    "i = 1\n",
    "while i<=148:\n",
    "\n",
    "  df = pd.DataFrame(get_data(i)).T\n",
    "  df_disney = df_disney.append(df, ignore_index=True)\n",
    "  i +=1\n",
    "\n",
    "  \n"
   ],
   "metadata": {
    "id": "Y1ValwWesTl_",
    "pycharm": {
     "name": "#%%\n"
    }
   },
   "execution_count": 73,
   "outputs": []
  },
  {
   "cell_type": "code",
   "source": [
    "## check the columns and rows of the dataframe\n",
    "df_disney.shape"
   ],
   "metadata": {
    "colab": {
     "base_uri": "https://localhost:8080/"
    },
    "id": "HyHlxaP0rsmL",
    "outputId": "493ff98f-ca3f-4f1f-db4c-5077f42539a6",
    "pycharm": {
     "name": "#%%\n"
    }
   },
   "execution_count": 90,
   "outputs": [
    {
     "output_type": "execute_result",
     "data": {
      "text/plain": [
       "(12400, 3)"
      ]
     },
     "metadata": {},
     "execution_count": 90
    }
   ]
  },
  {
   "cell_type": "code",
   "source": [
    "## change column names\n",
    "df_disney.columns = ['Name','Film','URL']"
   ],
   "metadata": {
    "id": "bCHDmwiJDSWA",
    "pycharm": {
     "name": "#%%\n"
    }
   },
   "execution_count": 91,
   "outputs": []
  },
  {
   "cell_type": "code",
   "source": [
    "## show the first rows of the dataframe\n",
    "df_disney.head(20)"
   ],
   "metadata": {
    "colab": {
     "base_uri": "https://localhost:8080/",
     "height": 677
    },
    "id": "gwUbqo8-tJH4",
    "outputId": "a8bfd0e6-dc03-4eea-c0fb-6d3f3f2ff3eb",
    "pycharm": {
     "name": "#%%\n"
    }
   },
   "execution_count": 92,
   "outputs": [
    {
     "output_type": "execute_result",
     "data": {
      "text/plain": [
       "                   Name                                               Film  \\\n",
       "0              'Olu Mel                                                 []   \n",
       "1              .GIFfany                                                 []   \n",
       "2                   627                                                 []   \n",
       "3                 9-Eye                                                 []   \n",
       "4   90's Adventure Bear                                                 []   \n",
       "5                A.B.E.                                                 []   \n",
       "6             A.J. Arno  [The Computer Wore Tennis Shoes, Now You See H...   \n",
       "7                A.R.F.                                                 []   \n",
       "8              Abdullah                                          [Cheetah]   \n",
       "9       Abigail Markham                                                 []   \n",
       "10      Abigail the Cow   [The Fox and the Hound, The Fox and the Hound 2]   \n",
       "11              Abigail                                                 []   \n",
       "12        Queen Abigail                                                 []   \n",
       "13     Abis Mal's Thugs  [The Return of Jafar, Aladdin and the King of ...   \n",
       "14                 Able                                                 []   \n",
       "15              Abraxas                                                 []   \n",
       "16              Absolem  [Alice in Wonderland (2010 film), Alice Throug...   \n",
       "17                  Abu  [Aladdin (film), The Return of Jafar, Aladdin ...   \n",
       "18             Abuelita                                                 []   \n",
       "19             Abuelito                                                 []   \n",
       "\n",
       "                                        URL  \n",
       "0    https://api.disneyapi.dev/characters/6  \n",
       "1    https://api.disneyapi.dev/characters/7  \n",
       "2   https://api.disneyapi.dev/characters/10  \n",
       "3   https://api.disneyapi.dev/characters/11  \n",
       "4   https://api.disneyapi.dev/characters/12  \n",
       "5   https://api.disneyapi.dev/characters/13  \n",
       "6   https://api.disneyapi.dev/characters/14  \n",
       "7   https://api.disneyapi.dev/characters/15  \n",
       "8   https://api.disneyapi.dev/characters/16  \n",
       "9   https://api.disneyapi.dev/characters/17  \n",
       "10  https://api.disneyapi.dev/characters/18  \n",
       "11  https://api.disneyapi.dev/characters/19  \n",
       "12  https://api.disneyapi.dev/characters/20  \n",
       "13  https://api.disneyapi.dev/characters/21  \n",
       "14  https://api.disneyapi.dev/characters/22  \n",
       "15  https://api.disneyapi.dev/characters/23  \n",
       "16  https://api.disneyapi.dev/characters/24  \n",
       "17  https://api.disneyapi.dev/characters/25  \n",
       "18  https://api.disneyapi.dev/characters/26  \n",
       "19  https://api.disneyapi.dev/characters/27  "
      ],
      "text/html": [
       "\n",
       "  <div id=\"df-7d764afc-2b24-45fa-8577-dcca74cbe4ad\">\n",
       "    <div class=\"colab-df-container\">\n",
       "      <div>\n",
       "<style scoped>\n",
       "    .dataframe tbody tr th:only-of-type {\n",
       "        vertical-align: middle;\n",
       "    }\n",
       "\n",
       "    .dataframe tbody tr th {\n",
       "        vertical-align: top;\n",
       "    }\n",
       "\n",
       "    .dataframe thead th {\n",
       "        text-align: right;\n",
       "    }\n",
       "</style>\n",
       "<table border=\"1\" class=\"dataframe\">\n",
       "  <thead>\n",
       "    <tr style=\"text-align: right;\">\n",
       "      <th></th>\n",
       "      <th>Name</th>\n",
       "      <th>Film</th>\n",
       "      <th>URL</th>\n",
       "    </tr>\n",
       "  </thead>\n",
       "  <tbody>\n",
       "    <tr>\n",
       "      <th>0</th>\n",
       "      <td>'Olu Mel</td>\n",
       "      <td>[]</td>\n",
       "      <td>https://api.disneyapi.dev/characters/6</td>\n",
       "    </tr>\n",
       "    <tr>\n",
       "      <th>1</th>\n",
       "      <td>.GIFfany</td>\n",
       "      <td>[]</td>\n",
       "      <td>https://api.disneyapi.dev/characters/7</td>\n",
       "    </tr>\n",
       "    <tr>\n",
       "      <th>2</th>\n",
       "      <td>627</td>\n",
       "      <td>[]</td>\n",
       "      <td>https://api.disneyapi.dev/characters/10</td>\n",
       "    </tr>\n",
       "    <tr>\n",
       "      <th>3</th>\n",
       "      <td>9-Eye</td>\n",
       "      <td>[]</td>\n",
       "      <td>https://api.disneyapi.dev/characters/11</td>\n",
       "    </tr>\n",
       "    <tr>\n",
       "      <th>4</th>\n",
       "      <td>90's Adventure Bear</td>\n",
       "      <td>[]</td>\n",
       "      <td>https://api.disneyapi.dev/characters/12</td>\n",
       "    </tr>\n",
       "    <tr>\n",
       "      <th>5</th>\n",
       "      <td>A.B.E.</td>\n",
       "      <td>[]</td>\n",
       "      <td>https://api.disneyapi.dev/characters/13</td>\n",
       "    </tr>\n",
       "    <tr>\n",
       "      <th>6</th>\n",
       "      <td>A.J. Arno</td>\n",
       "      <td>[The Computer Wore Tennis Shoes, Now You See H...</td>\n",
       "      <td>https://api.disneyapi.dev/characters/14</td>\n",
       "    </tr>\n",
       "    <tr>\n",
       "      <th>7</th>\n",
       "      <td>A.R.F.</td>\n",
       "      <td>[]</td>\n",
       "      <td>https://api.disneyapi.dev/characters/15</td>\n",
       "    </tr>\n",
       "    <tr>\n",
       "      <th>8</th>\n",
       "      <td>Abdullah</td>\n",
       "      <td>[Cheetah]</td>\n",
       "      <td>https://api.disneyapi.dev/characters/16</td>\n",
       "    </tr>\n",
       "    <tr>\n",
       "      <th>9</th>\n",
       "      <td>Abigail Markham</td>\n",
       "      <td>[]</td>\n",
       "      <td>https://api.disneyapi.dev/characters/17</td>\n",
       "    </tr>\n",
       "    <tr>\n",
       "      <th>10</th>\n",
       "      <td>Abigail the Cow</td>\n",
       "      <td>[The Fox and the Hound, The Fox and the Hound 2]</td>\n",
       "      <td>https://api.disneyapi.dev/characters/18</td>\n",
       "    </tr>\n",
       "    <tr>\n",
       "      <th>11</th>\n",
       "      <td>Abigail</td>\n",
       "      <td>[]</td>\n",
       "      <td>https://api.disneyapi.dev/characters/19</td>\n",
       "    </tr>\n",
       "    <tr>\n",
       "      <th>12</th>\n",
       "      <td>Queen Abigail</td>\n",
       "      <td>[]</td>\n",
       "      <td>https://api.disneyapi.dev/characters/20</td>\n",
       "    </tr>\n",
       "    <tr>\n",
       "      <th>13</th>\n",
       "      <td>Abis Mal's Thugs</td>\n",
       "      <td>[The Return of Jafar, Aladdin and the King of ...</td>\n",
       "      <td>https://api.disneyapi.dev/characters/21</td>\n",
       "    </tr>\n",
       "    <tr>\n",
       "      <th>14</th>\n",
       "      <td>Able</td>\n",
       "      <td>[]</td>\n",
       "      <td>https://api.disneyapi.dev/characters/22</td>\n",
       "    </tr>\n",
       "    <tr>\n",
       "      <th>15</th>\n",
       "      <td>Abraxas</td>\n",
       "      <td>[]</td>\n",
       "      <td>https://api.disneyapi.dev/characters/23</td>\n",
       "    </tr>\n",
       "    <tr>\n",
       "      <th>16</th>\n",
       "      <td>Absolem</td>\n",
       "      <td>[Alice in Wonderland (2010 film), Alice Throug...</td>\n",
       "      <td>https://api.disneyapi.dev/characters/24</td>\n",
       "    </tr>\n",
       "    <tr>\n",
       "      <th>17</th>\n",
       "      <td>Abu</td>\n",
       "      <td>[Aladdin (film), The Return of Jafar, Aladdin ...</td>\n",
       "      <td>https://api.disneyapi.dev/characters/25</td>\n",
       "    </tr>\n",
       "    <tr>\n",
       "      <th>18</th>\n",
       "      <td>Abuelita</td>\n",
       "      <td>[]</td>\n",
       "      <td>https://api.disneyapi.dev/characters/26</td>\n",
       "    </tr>\n",
       "    <tr>\n",
       "      <th>19</th>\n",
       "      <td>Abuelito</td>\n",
       "      <td>[]</td>\n",
       "      <td>https://api.disneyapi.dev/characters/27</td>\n",
       "    </tr>\n",
       "  </tbody>\n",
       "</table>\n",
       "</div>\n",
       "      <button class=\"colab-df-convert\" onclick=\"convertToInteractive('df-7d764afc-2b24-45fa-8577-dcca74cbe4ad')\"\n",
       "              title=\"Convert this dataframe to an interactive table.\"\n",
       "              style=\"display:none;\">\n",
       "        \n",
       "  <svg xmlns=\"http://www.w3.org/2000/svg\" height=\"24px\"viewBox=\"0 0 24 24\"\n",
       "       width=\"24px\">\n",
       "    <path d=\"M0 0h24v24H0V0z\" fill=\"none\"/>\n",
       "    <path d=\"M18.56 5.44l.94 2.06.94-2.06 2.06-.94-2.06-.94-.94-2.06-.94 2.06-2.06.94zm-11 1L8.5 8.5l.94-2.06 2.06-.94-2.06-.94L8.5 2.5l-.94 2.06-2.06.94zm10 10l.94 2.06.94-2.06 2.06-.94-2.06-.94-.94-2.06-.94 2.06-2.06.94z\"/><path d=\"M17.41 7.96l-1.37-1.37c-.4-.4-.92-.59-1.43-.59-.52 0-1.04.2-1.43.59L10.3 9.45l-7.72 7.72c-.78.78-.78 2.05 0 2.83L4 21.41c.39.39.9.59 1.41.59.51 0 1.02-.2 1.41-.59l7.78-7.78 2.81-2.81c.8-.78.8-2.07 0-2.86zM5.41 20L4 18.59l7.72-7.72 1.47 1.35L5.41 20z\"/>\n",
       "  </svg>\n",
       "      </button>\n",
       "      \n",
       "  <style>\n",
       "    .colab-df-container {\n",
       "      display:flex;\n",
       "      flex-wrap:wrap;\n",
       "      gap: 12px;\n",
       "    }\n",
       "\n",
       "    .colab-df-convert {\n",
       "      background-color: #E8F0FE;\n",
       "      border: none;\n",
       "      border-radius: 50%;\n",
       "      cursor: pointer;\n",
       "      display: none;\n",
       "      fill: #1967D2;\n",
       "      height: 32px;\n",
       "      padding: 0 0 0 0;\n",
       "      width: 32px;\n",
       "    }\n",
       "\n",
       "    .colab-df-convert:hover {\n",
       "      background-color: #E2EBFA;\n",
       "      box-shadow: 0px 1px 2px rgba(60, 64, 67, 0.3), 0px 1px 3px 1px rgba(60, 64, 67, 0.15);\n",
       "      fill: #174EA6;\n",
       "    }\n",
       "\n",
       "    [theme=dark] .colab-df-convert {\n",
       "      background-color: #3B4455;\n",
       "      fill: #D2E3FC;\n",
       "    }\n",
       "\n",
       "    [theme=dark] .colab-df-convert:hover {\n",
       "      background-color: #434B5C;\n",
       "      box-shadow: 0px 1px 3px 1px rgba(0, 0, 0, 0.15);\n",
       "      filter: drop-shadow(0px 1px 2px rgba(0, 0, 0, 0.3));\n",
       "      fill: #FFFFFF;\n",
       "    }\n",
       "  </style>\n",
       "\n",
       "      <script>\n",
       "        const buttonEl =\n",
       "          document.querySelector('#df-7d764afc-2b24-45fa-8577-dcca74cbe4ad button.colab-df-convert');\n",
       "        buttonEl.style.display =\n",
       "          google.colab.kernel.accessAllowed ? 'block' : 'none';\n",
       "\n",
       "        async function convertToInteractive(key) {\n",
       "          const element = document.querySelector('#df-7d764afc-2b24-45fa-8577-dcca74cbe4ad');\n",
       "          const dataTable =\n",
       "            await google.colab.kernel.invokeFunction('convertToInteractive',\n",
       "                                                     [key], {});\n",
       "          if (!dataTable) return;\n",
       "\n",
       "          const docLinkHtml = 'Like what you see? Visit the ' +\n",
       "            '<a target=\"_blank\" href=https://colab.research.google.com/notebooks/data_table.ipynb>data table notebook</a>'\n",
       "            + ' to learn more about interactive tables.';\n",
       "          element.innerHTML = '';\n",
       "          dataTable['output_type'] = 'display_data';\n",
       "          await google.colab.output.renderOutput(dataTable, element);\n",
       "          const docLink = document.createElement('div');\n",
       "          docLink.innerHTML = docLinkHtml;\n",
       "          element.appendChild(docLink);\n",
       "        }\n",
       "      </script>\n",
       "    </div>\n",
       "  </div>\n",
       "  "
      ]
     },
     "metadata": {},
     "execution_count": 92
    }
   ]
  },
  {
   "cell_type": "code",
   "source": [],
   "metadata": {
    "id": "m-6osj7F8-MO",
    "pycharm": {
     "name": "#%%\n"
    }
   },
   "execution_count": null,
   "outputs": []
  }
 ]
}